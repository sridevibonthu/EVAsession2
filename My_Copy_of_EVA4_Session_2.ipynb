{
  "nbformat": 4,
  "nbformat_minor": 0,
  "metadata": {
    "colab": {
      "name": "My Copy of EVA4 - Session 2.ipynb",
      "provenance": [],
      "collapsed_sections": [],
      "include_colab_link": true
    },
    "kernelspec": {
      "name": "python3",
      "display_name": "Python 3"
    },
    "accelerator": "GPU"
  },
  "cells": [
    {
      "cell_type": "markdown",
      "metadata": {
        "id": "view-in-github",
        "colab_type": "text"
      },
      "source": [
        "<a href=\"https://colab.research.google.com/github/sridevibonthu/EVAsession2/blob/master/My_Copy_of_EVA4_Session_2.ipynb\" target=\"_parent\"><img src=\"https://colab.research.google.com/assets/colab-badge.svg\" alt=\"Open In Colab\"/></a>"
      ]
    },
    {
      "cell_type": "code",
      "metadata": {
        "id": "0m2JWFliFfKT",
        "colab_type": "code",
        "colab": {}
      },
      "source": [
        "#import the required librarires\n",
        "from __future__ import print_function\n",
        "import torch\n",
        "import torch.nn as nn\n",
        "import torch.nn.functional as F\n",
        "import torch.optim as optim\n",
        "from torchvision import datasets, transforms"
      ],
      "execution_count": 0,
      "outputs": []
    },
    {
      "cell_type": "code",
      "metadata": {
        "id": "h_Cx9q2QFgM7",
        "colab_type": "code",
        "colab": {}
      },
      "source": [
        "#Define the CNN Architecture\n",
        "#torch.nn layers as which contain trainable parameters while torch.nn.functional are purely functional.\n",
        "#The forward() pass defines the way we compute our output using the given layers and functions.\n",
        "class Net(nn.Module):\n",
        "    def __init__(self):\n",
        "        super(Net, self).__init__()\n",
        "        self.conv1 = nn.Conv2d(1, 32, 3, padding=1) #input -28X28X1 OUtput - 28X28X32 RF - 3\n",
        "        self.conv2 = nn.Conv2d(32, 64, 3, padding=1) #input -28X28X32 OUtput - 28X28X64 RF - 5\n",
        "        self.pool1 = nn.MaxPool2d(2, 2)  #input -28X28X64 OUtput - 14X14X64 RF - 6\n",
        "        self.conv3 = nn.Conv2d(64, 128, 3, padding=1) #input -14X14X64 OUtput - 14X14X128 RF - 10\n",
        "        self.conv4 = nn.Conv2d(128, 256, 3, padding=1) #input -14X14X128 OUtput - 14X14X256 RF - 14\n",
        "        self.pool2 = nn.MaxPool2d(2, 2) #input -14X14X256 OUtput - 7X7X256 RF - 16\n",
        "        self.conv5 = nn.Conv2d(256, 512, 3)  #input -7X7X256 OUtput - 5X5X512 RF - 24\n",
        "        self.conv6 = nn.Conv2d(512, 10, 5)  #input - 5X5X512 OUtput - 3X3X1024 RF - 32\n",
        "       # self.conv7 = nn.Conv2d(1024, 10, 3)  #input -3X3X1024 OUtput - 1X1X10 RF - 40\n",
        "\n",
        "    #Feed Forward network\n",
        "    def forward(self, x):\n",
        "        x = self.pool1(F.relu(self.conv2(F.relu(self.conv1(x)))))\n",
        "        x = self.pool2(F.relu(self.conv4(F.relu(self.conv3(x)))))\n",
        "        x = F.relu(self.conv6(F.relu(self.conv5(x))))\n",
        "        #x = F.relu(self.conv7(x))\n",
        "        x = x.view(-1, 10)  #x reshaped from size [1X1X10] to [10],   Flatten\n",
        "        return F.log_softmax(x)"
      ],
      "execution_count": 0,
      "outputs": []
    },
    {
      "cell_type": "code",
      "metadata": {
        "colab_type": "code",
        "id": "xdydjYTZFyi3",
        "outputId": "7815f36f-fb43-407f-a6fd-00222a52bd2c",
        "colab": {
          "base_uri": "https://localhost:8080/",
          "height": 455
        }
      },
      "source": [
        "!pip install torchsummary  #Model summary in PyTorch similar to model.summary() in Keras\n",
        "from torchsummary import summary\n",
        "\n",
        "#PyTorch can only perform operations on Tensors that are on the same device\n",
        "#To run your network on the GPU, move the model and all necessary tensors to the GPU with .to(device) where device is either cuda or cpu\n",
        "use_cuda = torch.cuda.is_available()\n",
        "device = torch.device(\"cuda\" if use_cuda else \"cpu\")\n",
        "model = Net().to(device)\n",
        "\n",
        "summary(model, input_size=(1, 28, 28), ) #input_size is required to make a forward pass through the network."
      ],
      "execution_count": 0,
      "outputs": [
        {
          "output_type": "stream",
          "text": [
            "Requirement already satisfied: torchsummary in /usr/local/lib/python3.6/dist-packages (1.5.1)\n",
            "----------------------------------------------------------------\n",
            "        Layer (type)               Output Shape         Param #\n",
            "================================================================\n",
            "            Conv2d-1           [-1, 32, 28, 28]             320\n",
            "            Conv2d-2           [-1, 64, 28, 28]          18,496\n",
            "         MaxPool2d-3           [-1, 64, 14, 14]               0\n",
            "            Conv2d-4          [-1, 128, 14, 14]          73,856\n",
            "            Conv2d-5          [-1, 256, 14, 14]         295,168\n",
            "         MaxPool2d-6            [-1, 256, 7, 7]               0\n",
            "            Conv2d-7            [-1, 512, 5, 5]       1,180,160\n",
            "            Conv2d-8             [-1, 10, 1, 1]         128,010\n",
            "================================================================\n",
            "Total params: 1,696,010\n",
            "Trainable params: 1,696,010\n",
            "Non-trainable params: 0\n",
            "----------------------------------------------------------------\n",
            "Input size (MB): 0.00\n",
            "Forward/backward pass size (MB): 1.44\n",
            "Params size (MB): 6.47\n",
            "Estimated Total Size (MB): 7.91\n",
            "----------------------------------------------------------------\n"
          ],
          "name": "stdout"
        },
        {
          "output_type": "stream",
          "text": [
            "/usr/local/lib/python3.6/dist-packages/ipykernel_launcher.py:21: UserWarning: Implicit dimension choice for log_softmax has been deprecated. Change the call to include dim=X as an argument.\n"
          ],
          "name": "stderr"
        }
      ]
    },
    {
      "cell_type": "code",
      "metadata": {
        "id": "DqTWLaM5GHgH",
        "colab_type": "code",
        "colab": {}
      },
      "source": [
        "#we could use num_workers > 1 to use subprocesses to asynchronously load data or \n",
        "#using pinned RAM (via pin_memory) to speed up RAM to GPU transfers. \n",
        "#these mostly matter when we're using a GPU.\n",
        "#The values 0.1307 and 0.3081 used for the Normalize() transformation \n",
        "#below are the global mean and standard deviation of the MNIST dataset\n",
        "torch.manual_seed(1)\n",
        "batch_size = 128   #How many samples per batch to load?\n",
        "#num_workers - number of subprocesses to use for data loading\n",
        "kwargs = {'num_workers': 1, 'pin_memory': True} if use_cuda else {}\n",
        "\n",
        "#ToTensor() -convert data to torch.FloatTensor\n",
        "#Prepare the Data loaders by choosing the training and test datasets\n",
        "train_loader = torch.utils.data.DataLoader(\n",
        "    datasets.MNIST('../data', train=True, download=True,\n",
        "                    transform=transforms.Compose([\n",
        "                        transforms.ToTensor(),\n",
        "                        transforms.Normalize((0.1307,), (0.3081,))\n",
        "                    ])),\n",
        "    batch_size=batch_size, shuffle=True, **kwargs)\n",
        "test_loader = torch.utils.data.DataLoader(\n",
        "    datasets.MNIST('../data', train=False, transform=transforms.Compose([\n",
        "                        transforms.ToTensor(),\n",
        "                        transforms.Normalize((0.1307,), (0.3081,))\n",
        "                    ])),\n",
        "    batch_size=batch_size, shuffle=True, **kwargs)\n"
      ],
      "execution_count": 0,
      "outputs": []
    },
    {
      "cell_type": "code",
      "metadata": {
        "id": "8fDefDhaFlwH",
        "colab_type": "code",
        "colab": {}
      },
      "source": [
        "from tqdm import tqdm\n",
        "def train(model, device, train_loader, optimizer, epoch):\n",
        "    model.train()\n",
        "    pbar = tqdm(train_loader)\n",
        "    for batch_idx, (data, target) in enumerate(pbar):\n",
        "        data, target = data.to(device), target.to(device)\n",
        "        optimizer.zero_grad() #we need to manually set the gradients to zero using optimizer.zero_grad() since PyTorch by default accumulates gradients. \n",
        "        output = model(data)\n",
        "        loss = F.nll_loss(output, target) #compute a negative log-likelihodd loss between the output and the ground truth label\n",
        "        loss.backward()   # The backward() call we now collect a new set of gradients which we propagate back into each of the network's parameters using optimizer.step()\n",
        "        optimizer.step()\n",
        "        pbar.set_description(desc= f'loss={loss.item()} batch_id={batch_idx}')\n",
        "\n",
        "\n",
        "def test(model, device, test_loader):\n",
        "  #set all the layers in your model to evaluation mode. you should set your model to evaluation mode before testing or validating your model \n",
        "    model.eval()   \n",
        "    test_loss = 0\n",
        "    correct = 0\n",
        "    # Using the context manager no_grad() we can avoid storing the computations done producing the output of our network in the computation graph.\n",
        "    with torch.no_grad():\n",
        "        for data, target in test_loader:\n",
        "            data, target = data.to(device), target.to(device)\n",
        "            output = model(data)\n",
        "            test_loss += F.nll_loss(output, target, reduction='sum').item()  # sum up batch loss\n",
        "            pred = output.argmax(dim=1, keepdim=True)  # get the index of the max log-probability\n",
        "            correct += pred.eq(target.view_as(pred)).sum().item()\n",
        "\n",
        "    test_loss /= len(test_loader.dataset)\n",
        "\n",
        "    print('\\nTest set: Average loss: {:.4f}, Accuracy: {}/{} ({:.0f}%)\\n'.format(\n",
        "        test_loss, correct, len(test_loader.dataset),\n",
        "        100. * correct / len(test_loader.dataset)))"
      ],
      "execution_count": 0,
      "outputs": []
    },
    {
      "cell_type": "code",
      "metadata": {
        "id": "MMWbLWO6FuHb",
        "colab_type": "code",
        "outputId": "da8def90-8a19-4a6f-fefe-9dbf3b27fdc7",
        "colab": {
          "base_uri": "https://localhost:8080/",
          "height": 346
        }
      },
      "source": [
        "#It is important to transfer the networks parameters to the appropriate device before passing them to the optimizer, \n",
        "#otherwise the optimizer will not be able to keep track of them in the right way.\n",
        "model = Net().to(device)\n",
        "optimizer = optim.SGD(model.parameters(), lr=0.01, momentum=0.9)\n",
        "\n",
        "for epoch in range(1, 5):\n",
        "    train(model, device, train_loader, optimizer, epoch)\n",
        "    test(model, device, test_loader)"
      ],
      "execution_count": 0,
      "outputs": [
        {
          "output_type": "stream",
          "text": [
            "  0%|          | 0/469 [00:00<?, ?it/s]/usr/local/lib/python3.6/dist-packages/ipykernel_launcher.py:21: UserWarning: Implicit dimension choice for log_softmax has been deprecated. Change the call to include dim=X as an argument.\n",
            "loss=0.5389882922172546 batch_id=468: 100%|██████████| 469/469 [00:12<00:00, 36.49it/s]\n",
            "  0%|          | 0/469 [00:00<?, ?it/s]"
          ],
          "name": "stderr"
        },
        {
          "output_type": "stream",
          "text": [
            "\n",
            "Test set: Average loss: 0.5311, Accuracy: 7781/10000 (78%)\n",
            "\n"
          ],
          "name": "stdout"
        },
        {
          "output_type": "stream",
          "text": [
            "loss=0.39153990149497986 batch_id=468: 100%|██████████| 469/469 [00:13<00:00, 35.84it/s]\n",
            "  0%|          | 0/469 [00:00<?, ?it/s]"
          ],
          "name": "stderr"
        },
        {
          "output_type": "stream",
          "text": [
            "\n",
            "Test set: Average loss: 0.5198, Accuracy: 7803/10000 (78%)\n",
            "\n"
          ],
          "name": "stdout"
        },
        {
          "output_type": "stream",
          "text": [
            "loss=0.6978023052215576 batch_id=468: 100%|██████████| 469/469 [00:12<00:00, 36.57it/s]\n",
            "  0%|          | 0/469 [00:00<?, ?it/s]"
          ],
          "name": "stderr"
        },
        {
          "output_type": "stream",
          "text": [
            "\n",
            "Test set: Average loss: 0.5081, Accuracy: 7841/10000 (78%)\n",
            "\n"
          ],
          "name": "stdout"
        },
        {
          "output_type": "stream",
          "text": [
            "loss=0.457878440618515 batch_id=468: 100%|██████████| 469/469 [00:12<00:00, 37.72it/s]\n"
          ],
          "name": "stderr"
        },
        {
          "output_type": "stream",
          "text": [
            "\n",
            "Test set: Average loss: 0.5046, Accuracy: 7841/10000 (78%)\n",
            "\n"
          ],
          "name": "stdout"
        }
      ]
    },
    {
      "cell_type": "code",
      "metadata": {
        "id": "So5uk4EkHW6R",
        "colab_type": "code",
        "colab": {}
      },
      "source": [
        ""
      ],
      "execution_count": 0,
      "outputs": []
    }
  ]
}